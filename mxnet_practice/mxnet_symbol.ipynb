{
 "cells": [
  {
   "cell_type": "code",
   "execution_count": 1,
   "metadata": {},
   "outputs": [],
   "source": [
    "import mxnet as mx\n",
    "import numpy as np"
   ]
  },
  {
   "cell_type": "code",
   "execution_count": 2,
   "metadata": {
    "collapsed": true
   },
   "outputs": [
    {
     "name": "stdout",
     "output_type": "stream",
     "text": [
      "a b\n<class 'mxnet.symbol.Symbol'>\n"
     ]
    }
   ],
   "source": [
    "a = mx.sym.Variable(\"a\")\n",
    "b = mx.sym.Variable(\"b\")\n",
    "c = a + b\n",
    "print a.name, b.name\n",
    "print type(c)"
   ]
  },
  {
   "cell_type": "markdown",
   "metadata": {},
   "source": [
    "Most NDarray operators can be applied to Symbol. Symbol describes the operation and procedure without the need to realize the values.\n",
    "### note: dot product is an operator specified in symbol class, those in mx.nd. and numpy won't work. "
   ]
  },
  {
   "cell_type": "code",
   "execution_count": 3,
   "metadata": {},
   "outputs": [],
   "source": [
    "d = a * b\n",
    "e = mx.sym.dot(a, b)\n",
    "f = mx.sym.Reshape(a, shape=(2, 3)) # Reshape is capitalized. \n",
    "g = mx.sym.broadcast_to(f, shape=(2, 2, 3))"
   ]
  },
  {
   "cell_type": "markdown",
   "metadata": {},
   "source": [
    "#### Symbol can be used to construct neural network layers.\n",
    "One can use graphviz module to visualize the network in jupyter notebook. However, it doesn't work in Pycharm."
   ]
  },
  {
   "cell_type": "code",
   "execution_count": 5,
   "metadata": {},
   "outputs": [],
   "source": [
    "net = mx.sym.Variable(\"data\")\n",
    "net = mx.sym.FullyConnected(data=net, name=\"fc1\", num_hidden=100)\n",
    "net = mx.sym.Activation(data=net, name=\"relu1\", act_type=\"relu\")\n",
    "net = mx.sym.FullyConnected(data=net, name=\"fc2\", num_hidden=10)\n",
    "net = mx.sym.SoftmaxOutput(data=net, name=\"out\")"
   ]
  },
  {
   "cell_type": "markdown",
   "metadata": {},
   "source": [
    "#### Examples about how Symbol is used to construct neural network is a little confusing.\n",
    "declarative VS. imperative"
   ]
  },
  {
   "cell_type": "markdown",
   "metadata": {},
   "source": [
    "#### Symbol manipulation"
   ]
  },
  {
   "cell_type": "code",
   "execution_count": 6,
   "metadata": {},
   "outputs": [
    {
     "data": {
      "text/plain": [
       "(<mxnet.symbol.Symbol at 0x7f44bf345150>,\n <mxnet.symbol.Symbol at 0x7f44bf345490>,\n <mxnet.symbol.Symbol at 0x7f44bf3fd090>)"
      ]
     },
     "execution_count": 6,
     "metadata": {},
     "output_type": "execute_result"
    }
   ],
   "source": [
    "import mxnet as mx\n",
    "a = mx.sym.Variable('a')\n",
    "b = mx.sym.Variable('b')\n",
    "c = a + b\n",
    "assert a.name == \"a\", \"Symbol name incorrect.\"\n",
    "assert b.name == \"b\", \"Symbol name incorrect.\"\n",
    "(a, b, c)"
   ]
  },
  {
   "cell_type": "code",
   "execution_count": 12,
   "metadata": {},
   "outputs": [
    {
     "name": "stdout",
     "output_type": "stream",
     "text": [
      "['a', 'b'] [(3L, 3L), (3L, 3L)]\n['_plus1_output'] [(3L, 3L)]\n([(3L, 4L), (4L, 5L)], [(3L, 5L)], [])\n"
     ]
    }
   ],
   "source": [
    "d = mx.sym.dot(a, b)\n",
    "arg_name = c.list_arguments()  # get the names of the inputs\n",
    "out_name = c.list_outputs()    # get the names of the outputs\n",
    "arg_shape, out_shape, _ = c.infer_shape(a=(3,3), b=(3,3))\n",
    "print arg_name, arg_shape\n",
    "print out_name, out_shape\n",
    "print d.infer_shape(a=(3, 4), b=(4, 5))"
   ]
  },
  {
   "cell_type": "code",
   "execution_count": 38,
   "metadata": {},
   "outputs": [
    {
     "data": {
      "text/plain": [
       "array([[ 2.,  2.,  2.,  2.],\n       [ 2.,  2.,  2.,  2.],\n       [ 2.,  2.,  2.,  2.],\n       [ 2.,  2.,  2.,  2.]], dtype=float32)"
      ]
     },
     "execution_count": 38,
     "metadata": {},
     "output_type": "execute_result"
    }
   ],
   "source": [
    "a = mx.sym.Variable('label_a') # the label in Variable declaration has to match with that in the executor\n",
    "b = mx.sym.Variable('label_b')\n",
    "e = mx.sym.Variable(\"\")\n",
    "d = mx.sym.dot(a, b) + e\n",
    "ex = d.bind(ctx=mx.cpu(), args={\"label_b\": mx.nd.array(np.ones((4, 4))),\n",
    "                                \"label_a\": mx.nd.array(np.identity(4)),\n",
    "                                \"\": mx.nd.array(np.zeros((4, 4))+1)})\n",
    "ex.forward()\n",
    "ex.outputs[0].asnumpy()"
   ]
  },
  {
   "cell_type": "code",
   "execution_count": 45,
   "metadata": {},
   "outputs": [
    {
     "data": {
      "text/plain": [
       "array([[ -9.65896516e+36,   4.56543040e-41,   1.28796234e-37,\n          0.00000000e+00],\n       [ -5.09295665e+29,   4.56543040e-41,  -3.36075876e+37,\n          4.56543040e-41],\n       [ -8.99095053e+33,   4.56543040e-41,  -1.93268863e+35,\n          4.56543040e-41],\n       [  3.82273773e-38,   0.00000000e+00,  -5.09292643e+29,\n          4.56543040e-41]], dtype=float32)"
      ]
     },
     "execution_count": 45,
     "metadata": {},
     "output_type": "execute_result"
    }
   ],
   "source": [
    "# print(d.tojson())\n",
    "d.save(\"symbol_d.json\")\n",
    "ddd = mx.sym.load(\"symbol_d.json\")\n",
    "ex = ddd.bind(ctx=mx.cpu(), args={\"label_b\": mx.nd.array(np.ones((4, 4))),\n",
    "                                  \"label_a\": mx.nd.array(np.identity(4)),\n",
    "                                  \"\": mx.nd.array(np.zeros((4, 4))+1)})\n",
    "ex.outputs[0].asnumpy()"
   ]
  },
  {
   "cell_type": "markdown",
   "metadata": {},
   "source": [
    "### auto differentiation of Symbol"
   ]
  },
  {
   "cell_type": "code",
   "execution_count": null,
   "metadata": {},
   "outputs": [],
   "source": [
    ""
   ]
  },
  {
   "cell_type": "code",
   "execution_count": null,
   "metadata": {},
   "outputs": [],
   "source": [
    ""
   ]
  },
  {
   "cell_type": "code",
   "execution_count": null,
   "metadata": {},
   "outputs": [],
   "source": [
    ""
   ]
  }
 ],
 "metadata": {
  "kernelspec": {
   "display_name": "Python 2",
   "language": "python",
   "name": "python2"
  },
  "language_info": {
   "codemirror_mode": {
    "name": "ipython",
    "version": 2.0
   },
   "file_extension": ".py",
   "mimetype": "text/x-python",
   "name": "python",
   "nbconvert_exporter": "python",
   "pygments_lexer": "ipython2",
   "version": "2.7.6"
  }
 },
 "nbformat": 4,
 "nbformat_minor": 0
}